{
 "cells": [
  {
   "cell_type": "markdown",
   "metadata": {},
   "source": [
    "# Hidden shift algorithm\n",
    "\n",
    "\n",
    "[Bravyi and Gosset](https://arxiv.org/abs/1601.07601v3) and [Bravyi *et. al*](https://arxiv.org/abs/1808.00128v2) state that the hidden shift problem is particularly suited to benchmark their quantum circuit simulator because:\n",
    "\n",
    "1. the output is deterministic;\n",
    "and\n",
    "2. the $T$ count of the algorithm is easily controlled by choosing a suitable bent function.\n",
    "\n",
    "Following the description presented in the Appendix F of [[Bravyi and Gosset]](https://arxiv.org/abs/1601.07601v3), I will implement the hidden shift algorithm here as well.\n",
    "\n",
    "---\n",
    "\n",
    "This notebook was used to generate the following samples of the hidden-shift algorithm with the goal of benchmarking our code:\n",
    "\n",
    "* $t=14$:\n",
    "    1. $n=10$;\n",
    "    2. $n=14$;\n",
    "    3. $n=18$;\n",
    "    4. $n=22$;\n",
    "    5. $n=28$;\n",
    "    6. $n=32$;\n",
    "    \n",
    "\n",
    "* $t=28$:\n",
    "    1. $n=14$;\n",
    "    2. $n=18$;\n",
    "    3. $n=22$;\n",
    "    4. $n=28$;\n",
    "    5. $n=32$;\n",
    "    6. $n=36$."
   ]
  },
  {
   "cell_type": "code",
   "execution_count": 1,
   "metadata": {},
   "outputs": [],
   "source": [
    "import qiskit\n",
    "import random\n",
    "\n",
    "from qiskit.providers.aer import StatevectorSimulator, QasmSimulator\n",
    "from qiskit.tools.visualization import plot_histogram"
   ]
  },
  {
   "cell_type": "code",
   "execution_count": 2,
   "metadata": {},
   "outputs": [],
   "source": [
    "def oracle_g(n, n_ccz, g):\n",
    "    \"\"\"Oragel O_g\n",
    "\n",
    "    Args:\n",
    "        n (int): Number of qubits in the quantum circuit\n",
    "        n_ccz (int): Number of Toffoli (or CZZ) gates\n",
    "        g (int): Number of Z and CZ gates in the {Z,CZ}-layers\n",
    "\n",
    "    Returns:\n",
    "        QuantumCircuit: The O_g oracle quantum circuit\n",
    "    \"\"\"\n",
    "    qr_g = qiskit.QuantumRegister(int(n / 2))\n",
    "\n",
    "    og = qiskit.QuantumCircuit(qr_g, name='oracle_g')\n",
    "\n",
    "    gates = ['z', 'cz']\n",
    "    qubits = [i for i in range(int(n / 2))]\n",
    "    for i in range(g):\n",
    "        gate = random.sample(gates, 1)\n",
    "        if gate[0] == 'z':\n",
    "            target = random.sample(qubits, 1)\n",
    "            og.s(qr_g[target])\n",
    "            og.s(qr_g[target])\n",
    "        elif gate[0] == 'cz':\n",
    "            control, target = random.sample(qubits, 2)\n",
    "            og.h(qr_g[target])\n",
    "            og.cx(qr_g[control], qr_g[target])\n",
    "            og.h(qr_g[target])\n",
    "\n",
    "    for i in range(n_ccz):\n",
    "        c1, c2, t = random.sample(qubits, 3)\n",
    "        og.h(qr_g[t])\n",
    "        og.ccx(qr_g[c1], qr_g[c2], qr_g[t])\n",
    "        og.h(qr_g[t])\n",
    "        for i in range(g):\n",
    "            gate = random.sample(gates, 1)\n",
    "            if gate[0] == 'z':\n",
    "                target = random.sample(qubits, 1)\n",
    "                og.s(qr_g[target])\n",
    "                og.s(qr_g[target])\n",
    "            elif gate[0] == 'cz':\n",
    "                control, target = random.sample(qubits, 2)\n",
    "                og.h(qr_g[target])\n",
    "                og.cx(qr_g[control], qr_g[target])\n",
    "                og.h(qr_g[target])\n",
    "\n",
    "    return og\n",
    "\n",
    "\n",
    "def oracle_f(n, og):\n",
    "    \"\"\"Oracle O_f\n",
    "\n",
    "    Args:\n",
    "        n (int): The number of qubits in the quantum circuit\n",
    "        og (QuantumCircuit): The O_g oracle quantum circuit\n",
    "\n",
    "    Returns:\n",
    "        QuantumCircuit: The O_f oracle quantum circuit\n",
    "    \"\"\"\n",
    "    qr_f = qiskit.QuantumRegister(n)\n",
    "\n",
    "    of = qiskit.QuantumCircuit(qr_f, name='oracle_f')\n",
    "\n",
    "    of = of.compose(og, qubits=qr_f[0:int(n / 2)])  # compose\n",
    "\n",
    "    for i in range(int(n / 2)):\n",
    "        of.h(qr_f[i + int(n / 2)])\n",
    "        of.cx(qr_f[i], qr_f[i + int(n / 2)])\n",
    "        of.h(qr_f[i + int(n / 2)])\n",
    "\n",
    "    return of\n",
    "\n",
    "\n",
    "def oracle_fp(n, og):\n",
    "    \"\"\"Oracle O_f^{\\prime}\n",
    "\n",
    "    Args:\n",
    "        n (int): The number of qubits in the quantum circuit\n",
    "        og (QuantumCircuit): The O_g oracle quantum circuit\n",
    "\n",
    "    Returns:\n",
    "        QuantumCircuit: The O_f^{\\prime} oracle quantum circuit\n",
    "    \"\"\"\n",
    "    qr_fp = qiskit.QuantumRegister(n)\n",
    "\n",
    "    ofp = qiskit.QuantumCircuit(qr_fp, name='oracle_fp')\n",
    "\n",
    "    for i in range(n):\n",
    "        if s[i] == 1:\n",
    "            ofp.s(qr_fp[i])\n",
    "            ofp.s(qr_fp[i])\n",
    "\n",
    "    ofp = ofp.compose(og, qubits=qr_fp[int(n / 2):n])  # compose\n",
    "\n",
    "    for i in range(int(n / 2)):\n",
    "        ofp.h(qr_fp[i + int(n / 2)])\n",
    "        ofp.cx(qr_fp[i], qr_fp[i + int(n / 2)])\n",
    "        ofp.h(qr_fp[i + int(n / 2)])\n",
    "\n",
    "    return ofp"
   ]
  },
  {
   "cell_type": "markdown",
   "metadata": {},
   "source": [
    "\n",
    "## $T$-count: $t=14$\n",
    "\n",
    "### $n=10$\n"
   ]
  },
  {
   "cell_type": "code",
   "execution_count": 3,
   "metadata": {},
   "outputs": [],
   "source": [
    "n = 10"
   ]
  },
  {
   "cell_type": "code",
   "execution_count": 4,
   "metadata": {},
   "outputs": [
    {
     "name": "stdout",
     "output_type": "stream",
     "text": [
      "The \"hidden\" string is:  1001110010\n"
     ]
    }
   ],
   "source": [
    "# Generating a random hidden string\n",
    "\n",
    "s = []\n",
    "for i in range(n):\n",
    "    j = random.randint(0, 1)\n",
    "    s.append(j)\n",
    "\n",
    "s_string = ''.join(str(j) for j in s)\n",
    "print('The \"hidden\" string is: ', s_string)"
   ]
  },
  {
   "cell_type": "code",
   "execution_count": 5,
   "metadata": {},
   "outputs": [],
   "source": [
    "n_ccz = 1 # implies t_count = 14\n",
    "g = 200 # number of Z and CZ gates in the {Z,CZ}-layers in-between Toffoli gates "
   ]
  },
  {
   "cell_type": "markdown",
   "metadata": {},
   "source": [
    "#### Remarks:\n",
    "\n",
    "The generated quantum circuits will have the following properties:\n",
    "\n",
    "* $n=10$ qubits,\n",
    "* $800$ gates from the $\\{ Z, \\, CZ \\}$ set (since $g=200$),\n",
    "* $14$ $T$ gates,\n",
    "and\n",
    "* $w=10$ measurements.\n",
    "\n",
    "The output of the computation is **deterministic** and corresponds to the string $s \\in \\mathbb{F}^{10}_2$ generated at random.\n",
    "\n",
    "We want to export the randomly generated quantum circuits to a `.qasm` file and use them as input for our compilation code.\n",
    "\n",
    "Given the way the compilation code is written, we will require a new python code which writes the circuit in terms of the allowed Clifford generators $H$, $S$ and $CX$, allowed to be input to the compilation.\n",
    "\n",
    "In the form produced by the cells above, the circuits will not be valid inputs for the compilation code.\n",
    "So we will need to do that pre-processing beforehand."
   ]
  },
  {
   "cell_type": "markdown",
   "metadata": {},
   "source": [
    " "
   ]
  },
  {
   "cell_type": "markdown",
   "metadata": {},
   "source": [
    "To simplify this task, we made sure that the oracles are immediately written in terms of the desired Clifford generators ($Z=S\\cdot S$ and $CZ= (I\\otimes H) CX_{12} (I \\otimes H)$), such that we will **only need to worry with the decomposition of the Toffoli gate**. This makes the processing of the `.qasm` file simpler as we need only work through that decomposotion."
   ]
  },
  {
   "cell_type": "markdown",
   "metadata": {},
   "source": [
    "#### <span style=color:green>Sample generation!</span>\n",
    "    "
   ]
  },
  {
   "cell_type": "code",
   "execution_count": 9,
   "metadata": {},
   "outputs": [],
   "source": [
    "def sample_gen(nr_samples, n, n_ccz, s_string):\n",
    "    nr_samples = 100\n",
    "    \n",
    "    for circuit in range(nr_samples):\n",
    "        og = oracle_g(n, n_ccz, g)\n",
    "        of = oracle_f(n, og)\n",
    "        ofp = oracle_fp(n, og)\n",
    "        \n",
    "        qr = qiskit.QuantumRegister(n, 'qr')\n",
    "        cr = qiskit.ClassicalRegister(n, 'cr')\n",
    "        \n",
    "        qc = qiskit.QuantumCircuit(qr, cr, name='U')\n",
    "        \n",
    "        for i in range(n):\n",
    "            qc.h(i)\n",
    "        \n",
    "        qc = qc.compose(of, qr[0: n])\n",
    "        \n",
    "        for i in range(n):\n",
    "            qc.h(i)\n",
    "        \n",
    "        qc = qc.compose(ofp, qr[0: n])\n",
    "        \n",
    "        for i in range(n):\n",
    "            qc.h(i)\n",
    "            qc.measure(i, n - 1 - i)\n",
    "        \n",
    "        qc.qasm(\n",
    "            formatted=False,\n",
    "            filename=\n",
    "            f'tcount{n_ccz*14}--n{n}/s{s_string}/_samples/HSA{circuit}.qasm')"
   ]
  },
  {
   "cell_type": "code",
   "execution_count": 7,
   "metadata": {},
   "outputs": [],
   "source": [
    "def Toff_decomp(nr_samples, n, n_ccz, s_string):\n",
    "    for circuit in range(nr_samples):\n",
    "        with open(\n",
    "                f'tcount{n_ccz*14}--n{n}/s{s_string}/_samples/HSA{circuit}.qasm'\n",
    "        ) as file_object:\n",
    "            file_lines = file_object.readlines()\n",
    "\n",
    "            clines = file_lines.copy()\n",
    "            const = 0\n",
    "            for line in clines:\n",
    "                if line.startswith('ccx'):\n",
    "                    index = clines.index(line) + const\n",
    "                    a = line.partition('[')\n",
    "                    b = a[2].partition(']')\n",
    "                    ctrl_qubit1 = int(b[0])\n",
    "\n",
    "                    c = b[2].partition('[')\n",
    "                    d = c[2].partition(']')\n",
    "                    ctrl_qubit2 = int(d[0])\n",
    "\n",
    "                    e = d[2].partition('[')\n",
    "                    f = e[2].partition(']')\n",
    "                    target_qubit = int(f[0])\n",
    "\n",
    "                    file_lines.remove(line)\n",
    "                    # Toffoli decomposition:\n",
    "\n",
    "                    # (1) controlled-not gate between qubits 1 and 2:\n",
    "                    file_lines.insert(\n",
    "                        index, f'cx qr[{ctrl_qubit1}],qr[{ctrl_qubit2}];\\n')\n",
    "                    # (2) T gate on qubit 1:\n",
    "                    file_lines.insert(index, f't qr[{ctrl_qubit1}];\\n')\n",
    "                    # (3) T^dagger on qubit 2:\n",
    "                    file_lines.insert(index, f's qr[{ctrl_qubit2}];\\n')\n",
    "                    file_lines.insert(index, f's qr[{ctrl_qubit2}];\\n')\n",
    "                    file_lines.insert(index, f's qr[{ctrl_qubit2}];\\n')\n",
    "                    file_lines.insert(index, f't qr[{ctrl_qubit2}];\\n')\n",
    "                    # (4) controlled-not gate between qubits 1 and 2:\n",
    "                    file_lines.insert(\n",
    "                        index, f'cx qr[{ctrl_qubit1}],qr[{ctrl_qubit2}];\\n')\n",
    "                    # (5) H gate on qubit 3:\n",
    "                    file_lines.insert(index, f'h qr[{target_qubit}];\\n')\n",
    "                    # (6) T gates on qubits 2 and 3:\n",
    "                    file_lines.insert(index, f't qr[{ctrl_qubit2}];\\n')\n",
    "                    file_lines.insert(index, f't qr[{target_qubit}];\\n')\n",
    "                    # (7) controlled-not gate between qubits 1 and 3:\n",
    "                    file_lines.insert(\n",
    "                        index, f'cx qr[{ctrl_qubit1}],qr[{target_qubit}];\\n')\n",
    "                    # (8) T^dagger on qubit 3:\n",
    "                    file_lines.insert(index, f's qr[{target_qubit}];\\n')\n",
    "                    file_lines.insert(index, f's qr[{target_qubit}];\\n')\n",
    "                    file_lines.insert(index, f's qr[{target_qubit}];\\n')\n",
    "                    file_lines.insert(index, f't qr[{target_qubit}];\\n')\n",
    "                    # (9) controlled-not gate between qubits 2 and 3:\n",
    "                    file_lines.insert(\n",
    "                        index, f'cx qr[{ctrl_qubit2}],qr[{target_qubit}];\\n')\n",
    "                    # (10) T gate on qubit 3:\n",
    "                    file_lines.insert(index, f't qr[{target_qubit}];\\n')\n",
    "                    # (11) controlled-not gate between qubits 1 and 3:\n",
    "                    file_lines.insert(\n",
    "                        index, f'cx qr[{ctrl_qubit1}],qr[{target_qubit}];\\n')\n",
    "                    # (12) T^dagger on qubit 3:\n",
    "                    file_lines.insert(index, f's qr[{target_qubit}];\\n')\n",
    "                    file_lines.insert(index, f's qr[{target_qubit}];\\n')\n",
    "                    file_lines.insert(index, f's qr[{target_qubit}];\\n')\n",
    "                    file_lines.insert(index, f't qr[{target_qubit}];\\n')\n",
    "                    # (13) controlled-not gate between qubits 2 and 3:\n",
    "                    file_lines.insert(\n",
    "                        index, f'cx qr[{ctrl_qubit2}],qr[{target_qubit}];\\n')\n",
    "                    # (14) H gate on qubit 3:\n",
    "                    file_lines.insert(index, f'h qr[{target_qubit}];\\n')\n",
    "                    # This concludes the Toffoli decomposition\n",
    "                    const += 23\n",
    "\n",
    "        with open(\n",
    "                f'tcount{n_ccz*14}--n{n}/s{s_string}/_samples/HSA{circuit}-input.qasm',\n",
    "                'w') as file_object:\n",
    "            for line in file_lines:\n",
    "                file_object.write(line)"
   ]
  },
  {
   "cell_type": "code",
   "execution_count": 11,
   "metadata": {},
   "outputs": [],
   "source": [
    "nr_samples = 100\n",
    "\n",
    "sample_gen(nr_samples, n, n_ccz, s_string)\n",
    "Toff_decomp(nr_samples, n, n_ccz, s_string)"
   ]
  },
  {
   "cell_type": "markdown",
   "metadata": {},
   "source": [
    " "
   ]
  },
  {
   "cell_type": "markdown",
   "metadata": {},
   "source": [
    " "
   ]
  },
  {
   "cell_type": "markdown",
   "metadata": {},
   "source": [
    "### $n=14$\n"
   ]
  },
  {
   "cell_type": "code",
   "execution_count": 12,
   "metadata": {},
   "outputs": [
    {
     "name": "stdout",
     "output_type": "stream",
     "text": [
      "The \"hidden\" string is:  10110011100001\n"
     ]
    }
   ],
   "source": [
    "n = 14\n",
    "\n",
    "# Generating a random hidden string\n",
    "\n",
    "s = []\n",
    "for i in range(n):\n",
    "    j = random.randint(0, 1)\n",
    "    s.append(j)\n",
    "\n",
    "s_string = ''.join(str(j) for j in s)\n",
    "print('The \"hidden\" string is: ', s_string)\n",
    "\n",
    "n_ccz = 1 # implies t_count = 14\n",
    "g = 200 # number of Z and CZ gates in the {Z,CZ}-layers in-between Toffoli gates \n",
    "\n",
    "nr_samples = 100"
   ]
  },
  {
   "cell_type": "code",
   "execution_count": 14,
   "metadata": {},
   "outputs": [],
   "source": [
    "sample_gen(nr_samples, n, n_ccz, s_string)\n",
    "Toff_decomp(nr_samples, n, n_ccz, s_string)"
   ]
  },
  {
   "cell_type": "markdown",
   "metadata": {},
   "source": [
    "### $n=18$\n"
   ]
  },
  {
   "cell_type": "code",
   "execution_count": 15,
   "metadata": {},
   "outputs": [
    {
     "name": "stdout",
     "output_type": "stream",
     "text": [
      "The \"hidden\" string is:  000101001000100010\n"
     ]
    }
   ],
   "source": [
    "n = 18\n",
    "\n",
    "# Generating a random hidden string\n",
    "\n",
    "s = []\n",
    "for i in range(n):\n",
    "    j = random.randint(0, 1)\n",
    "    s.append(j)\n",
    "\n",
    "s_string = ''.join(str(j) for j in s)\n",
    "print('The \"hidden\" string is: ', s_string)\n",
    "\n",
    "n_ccz = 1 # implies t_count = 14\n",
    "g = 200 # number of Z and CZ gates in the {Z,CZ}-layers in-between Toffoli gates \n",
    "\n",
    "nr_samples = 100"
   ]
  },
  {
   "cell_type": "code",
   "execution_count": 17,
   "metadata": {},
   "outputs": [],
   "source": [
    "sample_gen(nr_samples, n, n_ccz, s_string)\n",
    "Toff_decomp(nr_samples, n, n_ccz, s_string)"
   ]
  },
  {
   "cell_type": "markdown",
   "metadata": {},
   "source": [
    "### $n=22$\n"
   ]
  },
  {
   "cell_type": "code",
   "execution_count": 18,
   "metadata": {},
   "outputs": [
    {
     "name": "stdout",
     "output_type": "stream",
     "text": [
      "The \"hidden\" string is:  1101111111111010011111\n"
     ]
    }
   ],
   "source": [
    "n = 22\n",
    "\n",
    "# Generating a random hidden string\n",
    "\n",
    "s = []\n",
    "for i in range(n):\n",
    "    j = random.randint(0, 1)\n",
    "    s.append(j)\n",
    "\n",
    "s_string = ''.join(str(j) for j in s)\n",
    "print('The \"hidden\" string is: ', s_string)\n",
    "\n",
    "n_ccz = 1 # implies t_count = 14\n",
    "g = 200 # number of Z and CZ gates in the {Z,CZ}-layers in-between Toffoli gates \n",
    "\n",
    "nr_samples = 100"
   ]
  },
  {
   "cell_type": "code",
   "execution_count": 19,
   "metadata": {},
   "outputs": [],
   "source": [
    "sample_gen(nr_samples, n, n_ccz, s_string)\n",
    "Toff_decomp(nr_samples, n, n_ccz, s_string)"
   ]
  },
  {
   "cell_type": "markdown",
   "metadata": {},
   "source": [
    "### $n=28$\n"
   ]
  },
  {
   "cell_type": "code",
   "execution_count": 20,
   "metadata": {},
   "outputs": [
    {
     "name": "stdout",
     "output_type": "stream",
     "text": [
      "The \"hidden\" string is:  0000011010101101001001010100\n"
     ]
    }
   ],
   "source": [
    "n = 28\n",
    "\n",
    "# Generating a random hidden string\n",
    "\n",
    "s = []\n",
    "for i in range(n):\n",
    "    j = random.randint(0, 1)\n",
    "    s.append(j)\n",
    "\n",
    "s_string = ''.join(str(j) for j in s)\n",
    "print('The \"hidden\" string is: ', s_string)\n",
    "\n",
    "n_ccz = 1 # implies t_count = 14\n",
    "g = 200 # number of Z and CZ gates in the {Z,CZ}-layers in-between Toffoli gates \n",
    "\n",
    "nr_samples = 100"
   ]
  },
  {
   "cell_type": "code",
   "execution_count": 22,
   "metadata": {},
   "outputs": [],
   "source": [
    "sample_gen(nr_samples, n, n_ccz, s_string)\n",
    "Toff_decomp(nr_samples, n, n_ccz, s_string)"
   ]
  },
  {
   "cell_type": "markdown",
   "metadata": {},
   "source": [
    "### $n=32$\n"
   ]
  },
  {
   "cell_type": "code",
   "execution_count": 23,
   "metadata": {},
   "outputs": [
    {
     "name": "stdout",
     "output_type": "stream",
     "text": [
      "The \"hidden\" string is:  11101100001000010000011011111101\n"
     ]
    }
   ],
   "source": [
    "n = 32\n",
    "\n",
    "# Generating a random hidden string\n",
    "\n",
    "s = []\n",
    "for i in range(n):\n",
    "    j = random.randint(0, 1)\n",
    "    s.append(j)\n",
    "\n",
    "s_string = ''.join(str(j) for j in s)\n",
    "print('The \"hidden\" string is: ', s_string)\n",
    "\n",
    "n_ccz = 1 # implies t_count = 14\n",
    "g = 200 # number of Z and CZ gates in the {Z,CZ}-layers in-between Toffoli gates \n",
    "\n",
    "nr_samples = 100"
   ]
  },
  {
   "cell_type": "code",
   "execution_count": 24,
   "metadata": {},
   "outputs": [],
   "source": [
    "sample_gen(nr_samples, n, n_ccz, s_string)\n",
    "Toff_decomp(nr_samples, n, n_ccz, s_string)"
   ]
  },
  {
   "cell_type": "markdown",
   "metadata": {},
   "source": [
    "## $t=28$\n",
    "\n",
    "### $n=14$"
   ]
  },
  {
   "cell_type": "code",
   "execution_count": 28,
   "metadata": {},
   "outputs": [
    {
     "name": "stdout",
     "output_type": "stream",
     "text": [
      "The \"hidden\" string is:  00010110010011\n"
     ]
    }
   ],
   "source": [
    "n = 14\n",
    "\n",
    "# Generating a random hidden string\n",
    "\n",
    "s = []\n",
    "for i in range(n):\n",
    "    j = random.randint(0, 1)\n",
    "    s.append(j)\n",
    "\n",
    "s_string = ''.join(str(j) for j in s)\n",
    "print('The \"hidden\" string is: ', s_string)\n",
    "\n",
    "n_ccz = 2 # implies t_count = 28\n",
    "g = 200 # number of Z and CZ gates in the {Z,CZ}-layers in-between Toffoli gates \n",
    "\n",
    "nr_samples = 100"
   ]
  },
  {
   "cell_type": "code",
   "execution_count": 30,
   "metadata": {},
   "outputs": [],
   "source": [
    "sample_gen(nr_samples, n, n_ccz, s_string)\n",
    "Toff_decomp(nr_samples, n, n_ccz, s_string)"
   ]
  },
  {
   "cell_type": "markdown",
   "metadata": {},
   "source": [
    "### $n= 18$"
   ]
  },
  {
   "cell_type": "code",
   "execution_count": 31,
   "metadata": {},
   "outputs": [
    {
     "name": "stdout",
     "output_type": "stream",
     "text": [
      "The \"hidden\" string is:  110011111110110000\n"
     ]
    }
   ],
   "source": [
    "n = 18\n",
    "\n",
    "# Generating a random hidden string\n",
    "\n",
    "s = []\n",
    "for i in range(n):\n",
    "    j = random.randint(0, 1)\n",
    "    s.append(j)\n",
    "\n",
    "s_string = ''.join(str(j) for j in s)\n",
    "print('The \"hidden\" string is: ', s_string)\n",
    "\n",
    "n_ccz = 2 # implies t_count = 28\n",
    "g = 200 # number of Z and CZ gates in the {Z,CZ}-layers in-between Toffoli gates \n",
    "\n",
    "nr_samples = 100"
   ]
  },
  {
   "cell_type": "code",
   "execution_count": 32,
   "metadata": {},
   "outputs": [],
   "source": [
    "sample_gen(nr_samples, n, n_ccz, s_string)\n",
    "Toff_decomp(nr_samples, n, n_ccz, s_string)"
   ]
  },
  {
   "cell_type": "markdown",
   "metadata": {},
   "source": [
    "### $n= 22$"
   ]
  },
  {
   "cell_type": "code",
   "execution_count": 33,
   "metadata": {},
   "outputs": [
    {
     "name": "stdout",
     "output_type": "stream",
     "text": [
      "The \"hidden\" string is:  0011010010000110101000\n"
     ]
    }
   ],
   "source": [
    "n = 22\n",
    "\n",
    "# Generating a random hidden string\n",
    "\n",
    "s = []\n",
    "for i in range(n):\n",
    "    j = random.randint(0, 1)\n",
    "    s.append(j)\n",
    "\n",
    "s_string = ''.join(str(j) for j in s)\n",
    "print('The \"hidden\" string is: ', s_string)\n",
    "\n",
    "n_ccz = 2 # implies t_count = 28\n",
    "g = 200 # number of Z and CZ gates in the {Z,CZ}-layers in-between Toffoli gates \n",
    "\n",
    "nr_samples = 100"
   ]
  },
  {
   "cell_type": "code",
   "execution_count": 34,
   "metadata": {},
   "outputs": [],
   "source": [
    "sample_gen(nr_samples, n, n_ccz, s_string)\n",
    "Toff_decomp(nr_samples, n, n_ccz, s_string)"
   ]
  },
  {
   "cell_type": "markdown",
   "metadata": {},
   "source": [
    "### $n= 28$"
   ]
  },
  {
   "cell_type": "code",
   "execution_count": 35,
   "metadata": {},
   "outputs": [
    {
     "name": "stdout",
     "output_type": "stream",
     "text": [
      "The \"hidden\" string is:  1001011101011110011110101010\n"
     ]
    }
   ],
   "source": [
    "n = 28\n",
    "\n",
    "# Generating a random hidden string\n",
    "\n",
    "s = []\n",
    "for i in range(n):\n",
    "    j = random.randint(0, 1)\n",
    "    s.append(j)\n",
    "\n",
    "s_string = ''.join(str(j) for j in s)\n",
    "print('The \"hidden\" string is: ', s_string)\n",
    "\n",
    "n_ccz = 2 # implies t_count = 28\n",
    "g = 200 # number of Z and CZ gates in the {Z,CZ}-layers in-between Toffoli gates \n",
    "\n",
    "nr_samples = 100"
   ]
  },
  {
   "cell_type": "code",
   "execution_count": 36,
   "metadata": {},
   "outputs": [],
   "source": [
    "sample_gen(nr_samples, n, n_ccz, s_string)\n",
    "Toff_decomp(nr_samples, n, n_ccz, s_string)"
   ]
  },
  {
   "cell_type": "markdown",
   "metadata": {},
   "source": [
    "### $n= 32$"
   ]
  },
  {
   "cell_type": "code",
   "execution_count": 37,
   "metadata": {},
   "outputs": [
    {
     "name": "stdout",
     "output_type": "stream",
     "text": [
      "The \"hidden\" string is:  00000111001001011001110001001100\n"
     ]
    }
   ],
   "source": [
    "n = 32\n",
    "\n",
    "# Generating a random hidden string\n",
    "\n",
    "s = []\n",
    "for i in range(n):\n",
    "    j = random.randint(0, 1)\n",
    "    s.append(j)\n",
    "\n",
    "s_string = ''.join(str(j) for j in s)\n",
    "print('The \"hidden\" string is: ', s_string)\n",
    "\n",
    "n_ccz = 2 # implies t_count = 28\n",
    "g = 200 # number of Z and CZ gates in the {Z,CZ}-layers in-between Toffoli gates \n",
    "\n",
    "nr_samples = 100"
   ]
  },
  {
   "cell_type": "code",
   "execution_count": 38,
   "metadata": {},
   "outputs": [],
   "source": [
    "sample_gen(nr_samples, n, n_ccz, s_string)\n",
    "Toff_decomp(nr_samples, n, n_ccz, s_string)"
   ]
  },
  {
   "cell_type": "markdown",
   "metadata": {},
   "source": [
    "### $n= 36$"
   ]
  },
  {
   "cell_type": "code",
   "execution_count": 39,
   "metadata": {},
   "outputs": [
    {
     "name": "stdout",
     "output_type": "stream",
     "text": [
      "The \"hidden\" string is:  110010111011111100101101111101110111\n"
     ]
    }
   ],
   "source": [
    "n = 36\n",
    "\n",
    "# Generating a random hidden string\n",
    "\n",
    "s = []\n",
    "for i in range(n):\n",
    "    j = random.randint(0, 1)\n",
    "    s.append(j)\n",
    "\n",
    "s_string = ''.join(str(j) for j in s)\n",
    "print('The \"hidden\" string is: ', s_string)\n",
    "\n",
    "n_ccz = 2 # implies t_count = 28\n",
    "g = 200 # number of Z and CZ gates in the {Z,CZ}-layers in-between Toffoli gates \n",
    "\n",
    "nr_samples = 100"
   ]
  },
  {
   "cell_type": "code",
   "execution_count": 41,
   "metadata": {},
   "outputs": [],
   "source": [
    "sample_gen(nr_samples, n, n_ccz, s_string)\n",
    "Toff_decomp(nr_samples, n, n_ccz, s_string)"
   ]
  },
  {
   "cell_type": "markdown",
   "metadata": {},
   "source": [
    " "
   ]
  },
  {
   "cell_type": "markdown",
   "metadata": {},
   "source": [
    "---"
   ]
  },
  {
   "cell_type": "markdown",
   "metadata": {},
   "source": [
    "## Importing some circuits to evaluate the depths:\n"
   ]
  },
  {
   "cell_type": "code",
   "execution_count": 17,
   "metadata": {},
   "outputs": [
    {
     "name": "stdout",
     "output_type": "stream",
     "text": [
      "367\n",
      "412\n",
      "377\n",
      "407\n",
      "375\n",
      "399\n",
      "369\n",
      "418\n",
      "395\n",
      "407\n"
     ]
    }
   ],
   "source": [
    "samples = [f'tcount14--n32/s11101100001000010000011011111101/_samples/HSA{i}-input.qasm' for i in range(10)]\n",
    "\n",
    "for i in range(10):\n",
    "    imported_qc = qiskit.QuantumCircuit.from_qasm_file(samples[i])\n",
    "    print(imported_qc.depth())"
   ]
  },
  {
   "cell_type": "markdown",
   "metadata": {},
   "source": [
    " "
   ]
  },
  {
   "cell_type": "markdown",
   "metadata": {},
   "source": [
    "---"
   ]
  },
  {
   "cell_type": "code",
   "execution_count": null,
   "metadata": {},
   "outputs": [],
   "source": []
  }
 ],
 "metadata": {
  "kernelspec": {
   "display_name": "Python 3.8.3 ('base')",
   "language": "python",
   "name": "python3"
  },
  "language_info": {
   "codemirror_mode": {
    "name": "ipython",
    "version": 3
   },
   "file_extension": ".py",
   "mimetype": "text/x-python",
   "name": "python",
   "nbconvert_exporter": "python",
   "pygments_lexer": "ipython3",
   "version": "3.8.3"
  },
  "vscode": {
   "interpreter": {
    "hash": "a2ad0a4eca7f845131466efb4c005711a36ab2f67b03ae1052a913dc9560ed71"
   }
  }
 },
 "nbformat": 4,
 "nbformat_minor": 5
}
